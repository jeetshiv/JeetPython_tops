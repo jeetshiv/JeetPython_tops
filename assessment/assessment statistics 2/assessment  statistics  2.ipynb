{
 "cells": [
  {
   "cell_type": "code",
   "execution_count": null,
   "id": "07e7b21d",
   "metadata": {},
   "outputs": [],
   "source": [
    "Question 1. There is an assumption that there is no significant difference between boys and \n",
    "girls with respect to intelligence. Tests are conducted on two groups and the following are \n",
    "the observations\n",
    "\n",
    "      Mean Standard Deviation Size \n",
    "Girls  89     4                 50 \n",
    "Boys   82     9                120 \n",
    "Validate the claim with 5% LoS (Level of Significance). "
   ]
  },
  {
   "cell_type": "code",
   "execution_count": 1,
   "id": "6d2383b8",
   "metadata": {},
   "outputs": [
    {
     "name": "stdout",
     "output_type": "stream",
     "text": [
      "Reject the null hypothesis. There is a significant difference between boys and girls with respect to intelligence.\n"
     ]
    }
   ],
   "source": [
    "import numpy as np\n",
    "from scipy.stats import ttest_ind\n",
    "\n",
    "# Observations\n",
    "mean_girls = 89\n",
    "std_dev_girls = 4\n",
    "size_girls = 50\n",
    "\n",
    "mean_boys = 82\n",
    "std_dev_boys = 9\n",
    "size_boys = 120\n",
    "\n",
    "# Generating synthetic data\n",
    "np.random.seed(42)\n",
    "girls_scores = np.random.normal(mean_girls, std_dev_girls, size_girls)\n",
    "boys_scores = np.random.normal(mean_boys, std_dev_boys, size_boys)\n",
    "\n",
    "# Performing independent samples t-test\n",
    "t_stat, p_value = ttest_ind(girls_scores, boys_scores, equal_var=False)\n",
    "\n",
    "# Level of Significance (LoS)\n",
    "alpha = 0.05\n",
    "\n",
    "# Checking the p-value against the significance level\n",
    "if p_value < alpha:\n",
    "    print(f\"Reject the null hypothesis. There is a significant difference between boys and girls with respect to intelligence.\")\n",
    "else:\n",
    "    print(\"Fail to reject the null hypothesis. There is no significant difference between boys and girls with respect to intelligence.\")\n"
   ]
  },
  {
   "cell_type": "code",
   "execution_count": null,
   "id": "3c7eea94",
   "metadata": {},
   "outputs": [],
   "source": [
    "Analyze the below data and tell whether you can conclude that smoking causes \n",
    "cancer or not? \n",
    "            Category Diagnosed as Cancer    Without Cancer   Total \n",
    "Smokers          220                         230               550 \n",
    "Non-Smokers      350                         640               990 \n",
    "Total            680                         910              1590 "
   ]
  },
  {
   "cell_type": "code",
   "execution_count": 2,
   "id": "328cb8f5",
   "metadata": {},
   "outputs": [
    {
     "name": "stdout",
     "output_type": "stream",
     "text": [
      "Reject the null hypothesis. There is a significant association between smoking and being diagnosed with cancer.\n"
     ]
    }
   ],
   "source": [
    "import numpy as np\n",
    "from scipy.stats import chi2_contingency\n",
    "\n",
    "# Given data\n",
    "observed_data = np.array([[220, 230], [350, 640]])\n",
    "\n",
    "# Performing chi-squared test\n",
    "chi2_stat, p_value, dof, expected = chi2_contingency(observed_data)\n",
    "\n",
    "# Level of Significance (LoS)\n",
    "alpha = 0.05\n",
    "\n",
    "# Checking the p-value against the significance level\n",
    "if p_value < alpha:\n",
    "    print(\"Reject the null hypothesis. There is a significant association between smoking and being diagnosed with cancer.\")\n",
    "else:\n",
    "    print(\"Fail to reject the null hypothesis. There is no significant association between smoking and being diagnosed with cancer.\")\n"
   ]
  },
  {
   "cell_type": "code",
   "execution_count": null,
   "id": "1ae94a8f",
   "metadata": {},
   "outputs": [],
   "source": []
  }
 ],
 "metadata": {
  "kernelspec": {
   "display_name": "Python 3 (ipykernel)",
   "language": "python",
   "name": "python3"
  },
  "language_info": {
   "codemirror_mode": {
    "name": "ipython",
    "version": 3
   },
   "file_extension": ".py",
   "mimetype": "text/x-python",
   "name": "python",
   "nbconvert_exporter": "python",
   "pygments_lexer": "ipython3",
   "version": "3.10.9"
  }
 },
 "nbformat": 4,
 "nbformat_minor": 5
}
